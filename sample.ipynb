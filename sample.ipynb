{
 "cells": [
  {
   "cell_type": "code",
   "execution_count": 21,
   "id": "5422f575-cc9d-4065-8933-f8b65f1dde2d",
   "metadata": {
    "tags": []
   },
   "outputs": [],
   "source": [
    "import random\n",
    "\n",
    "from sklearn.neural_network import MLPClassifier\n",
    "from sklearn.datasets import load_digits\n",
    "from sklearn.model_selection import train_test_split\n",
    "\n",
    "random.seed(42)"
   ]
  },
  {
   "cell_type": "code",
   "execution_count": 22,
   "id": "dd164c38-f343-4693-8919-36df49eeb1af",
   "metadata": {
    "tags": []
   },
   "outputs": [],
   "source": [
    "digits = load_digits()"
   ]
  },
  {
   "cell_type": "code",
   "execution_count": 23,
   "id": "69cc8097-4615-4ceb-baea-9157779a56c1",
   "metadata": {
    "tags": []
   },
   "outputs": [],
   "source": [
    "X = digits.data / 16.0\n",
    "y = digits.target\n",
    "\n",
    "X_train, X_test, y_train, y_test = train_test_split(X, y, stratify=y, random_state=1)"
   ]
  },
  {
   "cell_type": "code",
   "execution_count": 24,
   "id": "15a8714e-c036-42f7-8473-d4edb38e035b",
   "metadata": {
    "tags": []
   },
   "outputs": [
    {
     "name": "stderr",
     "output_type": "stream",
     "text": [
      "/usr/local/lib/python3.10/dist-packages/sklearn/neural_network/_multilayer_perceptron.py:686: ConvergenceWarning: Stochastic Optimizer: Maximum iterations (100) reached and the optimization hasn't converged yet.\n",
      "  warnings.warn(\n"
     ]
    },
    {
     "data": {
      "text/html": [
       "<style>#sk-container-id-2 {color: black;background-color: white;}#sk-container-id-2 pre{padding: 0;}#sk-container-id-2 div.sk-toggleable {background-color: white;}#sk-container-id-2 label.sk-toggleable__label {cursor: pointer;display: block;width: 100%;margin-bottom: 0;padding: 0.3em;box-sizing: border-box;text-align: center;}#sk-container-id-2 label.sk-toggleable__label-arrow:before {content: \"▸\";float: left;margin-right: 0.25em;color: #696969;}#sk-container-id-2 label.sk-toggleable__label-arrow:hover:before {color: black;}#sk-container-id-2 div.sk-estimator:hover label.sk-toggleable__label-arrow:before {color: black;}#sk-container-id-2 div.sk-toggleable__content {max-height: 0;max-width: 0;overflow: hidden;text-align: left;background-color: #f0f8ff;}#sk-container-id-2 div.sk-toggleable__content pre {margin: 0.2em;color: black;border-radius: 0.25em;background-color: #f0f8ff;}#sk-container-id-2 input.sk-toggleable__control:checked~div.sk-toggleable__content {max-height: 200px;max-width: 100%;overflow: auto;}#sk-container-id-2 input.sk-toggleable__control:checked~label.sk-toggleable__label-arrow:before {content: \"▾\";}#sk-container-id-2 div.sk-estimator input.sk-toggleable__control:checked~label.sk-toggleable__label {background-color: #d4ebff;}#sk-container-id-2 div.sk-label input.sk-toggleable__control:checked~label.sk-toggleable__label {background-color: #d4ebff;}#sk-container-id-2 input.sk-hidden--visually {border: 0;clip: rect(1px 1px 1px 1px);clip: rect(1px, 1px, 1px, 1px);height: 1px;margin: -1px;overflow: hidden;padding: 0;position: absolute;width: 1px;}#sk-container-id-2 div.sk-estimator {font-family: monospace;background-color: #f0f8ff;border: 1px dotted black;border-radius: 0.25em;box-sizing: border-box;margin-bottom: 0.5em;}#sk-container-id-2 div.sk-estimator:hover {background-color: #d4ebff;}#sk-container-id-2 div.sk-parallel-item::after {content: \"\";width: 100%;border-bottom: 1px solid gray;flex-grow: 1;}#sk-container-id-2 div.sk-label:hover label.sk-toggleable__label {background-color: #d4ebff;}#sk-container-id-2 div.sk-serial::before {content: \"\";position: absolute;border-left: 1px solid gray;box-sizing: border-box;top: 0;bottom: 0;left: 50%;z-index: 0;}#sk-container-id-2 div.sk-serial {display: flex;flex-direction: column;align-items: center;background-color: white;padding-right: 0.2em;padding-left: 0.2em;position: relative;}#sk-container-id-2 div.sk-item {position: relative;z-index: 1;}#sk-container-id-2 div.sk-parallel {display: flex;align-items: stretch;justify-content: center;background-color: white;position: relative;}#sk-container-id-2 div.sk-item::before, #sk-container-id-2 div.sk-parallel-item::before {content: \"\";position: absolute;border-left: 1px solid gray;box-sizing: border-box;top: 0;bottom: 0;left: 50%;z-index: -1;}#sk-container-id-2 div.sk-parallel-item {display: flex;flex-direction: column;z-index: 1;position: relative;background-color: white;}#sk-container-id-2 div.sk-parallel-item:first-child::after {align-self: flex-end;width: 50%;}#sk-container-id-2 div.sk-parallel-item:last-child::after {align-self: flex-start;width: 50%;}#sk-container-id-2 div.sk-parallel-item:only-child::after {width: 0;}#sk-container-id-2 div.sk-dashed-wrapped {border: 1px dashed gray;margin: 0 0.4em 0.5em 0.4em;box-sizing: border-box;padding-bottom: 0.4em;background-color: white;}#sk-container-id-2 div.sk-label label {font-family: monospace;font-weight: bold;display: inline-block;line-height: 1.2em;}#sk-container-id-2 div.sk-label-container {text-align: center;}#sk-container-id-2 div.sk-container {/* jupyter's `normalize.less` sets `[hidden] { display: none; }` but bootstrap.min.css set `[hidden] { display: none !important; }` so we also need the `!important` here to be able to override the default hidden behavior on the sphinx rendered scikit-learn.org. See: https://github.com/scikit-learn/scikit-learn/issues/21755 */display: inline-block !important;position: relative;}#sk-container-id-2 div.sk-text-repr-fallback {display: none;}</style><div id=\"sk-container-id-2\" class=\"sk-top-container\"><div class=\"sk-text-repr-fallback\"><pre>MLPClassifier(hidden_layer_sizes=(), max_iter=100, random_state=1)</pre><b>In a Jupyter environment, please rerun this cell to show the HTML representation or trust the notebook. <br />On GitHub, the HTML representation is unable to render, please try loading this page with nbviewer.org.</b></div><div class=\"sk-container\" hidden><div class=\"sk-item\"><div class=\"sk-estimator sk-toggleable\"><input class=\"sk-toggleable__control sk-hidden--visually\" id=\"sk-estimator-id-2\" type=\"checkbox\" checked><label for=\"sk-estimator-id-2\" class=\"sk-toggleable__label sk-toggleable__label-arrow\">MLPClassifier</label><div class=\"sk-toggleable__content\"><pre>MLPClassifier(hidden_layer_sizes=(), max_iter=100, random_state=1)</pre></div></div></div></div></div>"
      ],
      "text/plain": [
       "MLPClassifier(hidden_layer_sizes=(), max_iter=100, random_state=1)"
      ]
     },
     "execution_count": 24,
     "metadata": {},
     "output_type": "execute_result"
    }
   ],
   "source": [
    "clf = MLPClassifier(hidden_layer_sizes=(), activation=\"relu\", random_state=1, max_iter=100)\n",
    "clf.fit(X_train, y_train)"
   ]
  },
  {
   "cell_type": "code",
   "execution_count": 25,
   "id": "5d45d177-8513-46c3-88c5-6ba943157981",
   "metadata": {
    "tags": []
   },
   "outputs": [
    {
     "data": {
      "text/plain": [
       "(0.9161098737936154, 0.9288888888888889)"
      ]
     },
     "execution_count": 25,
     "metadata": {},
     "output_type": "execute_result"
    }
   ],
   "source": [
    "clf.score(X_train, y_train), clf.score(X_test, y_test)"
   ]
  },
  {
   "cell_type": "code",
   "execution_count": 26,
   "id": "2aa01ce3-38bc-4d13-af5c-2e1e9aa290ff",
   "metadata": {
    "tags": []
   },
   "outputs": [],
   "source": [
    "def dump_mlp(clf, feature_vars, indent_char=\"\", endl=\"\\n\", precision=8):\n",
    "    format_str = \"{:.\" + str(precision) + \"f}\"\n",
    "    code = \"\"\n",
    "    len_layers = len(clf.coefs_)\n",
    "    for c, n in enumerate(feature_vars):\n",
    "        code += f\"{indent_char}h_0_{c} = {n};{endl}\"\n",
    "\n",
    "    for layer_id in range(len_layers):\n",
    "        code += endl\n",
    "        for j in range(clf.coefs_[layer_id].shape[1]):\n",
    "            code += f\"{indent_char}h_{layer_id + 1}_{j} = {format_str.format(clf.intercepts_[layer_id][j])}\"\n",
    "            for c in range(len(clf.coefs_[layer_id][:, j])):\n",
    "                code += f\" + ({format_str.format(clf.coefs_[layer_id][c, j])} * h_{layer_id}_{c})\"\n",
    "            code += f\";{endl}\"\n",
    "            if layer_id < len_layers - 1:\n",
    "                if clf.activation == \"relu\":\n",
    "                    code += f\"{indent_char}if(h_{layer_id + 1}_{j} < 0){endl}\"\n",
    "                    code += f\"{indent_char} h_{layer_id + 1}_{j} = 0;{endl}\"\n",
    "            else:\n",
    "                code += f\"{indent_char}y_{j} = h_{layer_id + 1}_{j};{endl}\"\n",
    "    return code"
   ]
  },
  {
   "cell_type": "code",
   "execution_count": 70,
   "id": "46172acd-0530-4e76-a926-0ea5147f8604",
   "metadata": {
    "tags": []
   },
   "outputs": [],
   "source": [
    "num_symbolic_vars = 10\n",
    "symbolic_vars_id = random.sample(list(range(X_train.shape[1])), num_symbolic_vars)"
   ]
  },
  {
   "cell_type": "code",
   "execution_count": 71,
   "id": "1b8f274d-f7df-4ce1-9a9d-729cd7e6691f",
   "metadata": {
    "tags": []
   },
   "outputs": [
    {
     "name": "stdout",
     "output_type": "stream",
     "text": [
      "4 [4]\n"
     ]
    }
   ],
   "source": [
    "idx = 4\n",
    "x_origin = X[idx]\n",
    "y_origin = y[idx]\n",
    "print(y_origin, clf.predict(x_origin.reshape(1, -1)))\n",
    "\n",
    "feature_names = [f\"var_{j}\" if j in symbolic_vars_id else str(x_origin[j]) for j in range(x_origin.shape[0])]"
   ]
  },
  {
   "cell_type": "code",
   "execution_count": 72,
   "id": "b7ff97aa-f836-48ba-aa08-af2468c4cfb7",
   "metadata": {
    "tags": []
   },
   "outputs": [],
   "source": [
    "mlp_code = dump_mlp(clf, feature_names)\n",
    "\n",
    "adv_condition = \"(\" + \" || \".join([f\"(y_{c} > y_{y_origin})\" for c in range(len(clf.classes_)) if y_origin != c]) + \")\"\n",
    "perturbation_condition = \"(\" + \" && \".join([f\"(var_{i} >= 0) && (var_{i} <= 1.0)\" for i in symbolic_vars_id]) + \")\"\n",
    "\n",
    "#mlp_code+=f\"\\nif ({adv_condition})\\n return 1;\\nreturn 0;\"\n",
    "mlp_code+=f\"\\nif ({adv_condition} && {perturbation_condition})\\n return 1;\\nreturn 0;\""
   ]
  },
  {
   "cell_type": "code",
   "execution_count": 73,
   "id": "d79a8e6c-a495-411c-b803-4fa9df6d32b4",
   "metadata": {
    "tags": []
   },
   "outputs": [],
   "source": [
    "with open(\"example/nn.gym\", mode=\"w\") as f:\n",
    "    f.write(mlp_code)"
   ]
  },
  {
   "cell_type": "code",
   "execution_count": 69,
   "id": "1b6541d7-1b3b-4b52-b4e0-e7f6620f46a0",
   "metadata": {},
   "outputs": [
    {
     "data": {
      "text/plain": [
       "[14, 3, 35, 31, 28]"
      ]
     },
     "execution_count": 69,
     "metadata": {},
     "output_type": "execute_result"
    }
   ],
   "source": [
    "symbolic_vars_id"
   ]
  },
  {
   "cell_type": "code",
   "execution_count": 56,
   "id": "c9e013d8-7c13-4e6e-8be8-f09287bd0ce9",
   "metadata": {},
   "outputs": [
    {
     "data": {
      "text/plain": [
       "array([4])"
      ]
     },
     "execution_count": 56,
     "metadata": {},
     "output_type": "execute_result"
    }
   ],
   "source": [
    "clf.predict(x_origin.reshape(1, -1))"
   ]
  },
  {
   "cell_type": "code",
   "execution_count": 57,
   "id": "c39a1597-b293-4c97-adcb-70f44b734f79",
   "metadata": {
    "tags": []
   },
   "outputs": [],
   "source": [
    "x_adv = x_origin.reshape(1, -1).copy()"
   ]
  },
  {
   "cell_type": "code",
   "execution_count": 58,
   "id": "4a0c9f3e-e9c7-42d7-9e8f-c59539f7dc49",
   "metadata": {
    "tags": []
   },
   "outputs": [],
   "source": [
    "x_adv[:, 57] = 1.711993\n",
    "x_adv[:, 47] = -0.796565\n",
    "x_adv[:, 43] = 1.930713\n",
    "x_adv[:, 37] = 1.776542\n",
    "x_adv[:, 34] = 1.354539"
   ]
  },
  {
   "cell_type": "code",
   "execution_count": 59,
   "id": "efde58ac-1a44-43c9-b6a3-29583543fa42",
   "metadata": {
    "tags": []
   },
   "outputs": [
    {
     "data": {
      "text/plain": [
       "(array([7]), array([4]))"
      ]
     },
     "execution_count": 59,
     "metadata": {},
     "output_type": "execute_result"
    }
   ],
   "source": [
    "clf.predict(x_adv), clf.predict(x_origin.reshape(1, -1))"
   ]
  },
  {
   "cell_type": "code",
   "execution_count": 60,
   "id": "c49e5f08-ef0a-457a-a41b-03c7df696b33",
   "metadata": {
    "tags": []
   },
   "outputs": [
    {
     "data": {
      "text/plain": [
       "(array([[0.01668097, 0.14923183, 0.00976213, 0.03304357, 0.24750146,\n",
       "         0.02749374, 0.06214523, 0.24839706, 0.13623026, 0.06951374]]),\n",
       " array([[0.03848151, 0.07646758, 0.00566983, 0.00734964, 0.73606777,\n",
       "         0.01131648, 0.08001591, 0.0092108 , 0.02642967, 0.0089908 ]]))"
      ]
     },
     "execution_count": 60,
     "metadata": {},
     "output_type": "execute_result"
    }
   ],
   "source": [
    "clf.predict_proba(x_adv), clf.predict_proba(x_origin.reshape(1, -1))"
   ]
  },
  {
   "cell_type": "code",
   "execution_count": 61,
   "id": "cc9c7321-af1c-4c84-9e8d-1ad021850a81",
   "metadata": {
    "tags": []
   },
   "outputs": [],
   "source": [
    "from matplotlib import pyplot as plt"
   ]
  },
  {
   "cell_type": "code",
   "execution_count": 66,
   "id": "89c77af4-7c59-4372-90dd-898b6d6ee915",
   "metadata": {
    "tags": []
   },
   "outputs": [
    {
     "data": {
      "text/plain": [
       "<matplotlib.image.AxesImage at 0x7f4ee06607c0>"
      ]
     },
     "execution_count": 66,
     "metadata": {},
     "output_type": "execute_result"
    },
    {
     "data": {
      "image/png": "[encoded data removed]",
      "text/plain": [
       "<Figure size 640x480 with 1 Axes>"
      ]
     },
     "metadata": {},
     "output_type": "display_data"
    }
   ],
   "source": [
    "plt.imshow(x_origin.reshape(8, 8), cmap=\"gray\")"
   ]
  },
  {
   "cell_type": "code",
   "execution_count": null,
   "id": "142be921-4641-49e7-a3e5-f5c72f4698df",
   "metadata": {},
   "outputs": [],
   "source": []
  }
 ],
 "metadata": {
  "kernelspec": {
   "display_name": "Python 3 (ipykernel)",
   "language": "python",
   "name": "python3"
  },
  "language_info": {
   "codemirror_mode": {
    "name": "ipython",
    "version": 3
   },
   "file_extension": ".py",
   "mimetype": "text/x-python",
   "name": "python",
   "nbconvert_exporter": "python",
   "pygments_lexer": "ipython3",
   "version": "3.10.6"
  }
 },
 "nbformat": 4,
 "nbformat_minor": 5
}
