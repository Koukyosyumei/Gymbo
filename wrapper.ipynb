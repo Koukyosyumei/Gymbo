{
 "cells": [
  {
   "cell_type": "code",
   "execution_count": 1,
   "id": "67747f77-977a-4b54-8494-70a8adcc957e",
   "metadata": {
    "tags": []
   },
   "outputs": [],
   "source": [
    "import pylibgymbo as plg"
   ]
  },
  {
   "cell_type": "code",
   "execution_count": 2,
   "id": "6a518490-2ef9-481d-a3dc-0dce6cb943a4",
   "metadata": {
    "tags": []
   },
   "outputs": [],
   "source": [
    "max_depth = 65536\n",
    "verbose_level = 1\n",
    "num_itrs = 100\n",
    "step_size = 1.0\n",
    "eps = 1.0\n",
    "max_num_trials = 10\n",
    "param_low = -10\n",
    "param_high = 10\n",
    "seed = 42\n",
    "sign_grad = False\n",
    "init_param_uniform_int = False\n",
    "ignore_memory = False\n",
    "use_dpll = False"
   ]
  },
  {
   "cell_type": "code",
   "execution_count": 3,
   "id": "bdb13337-0c6d-4bde-a9d8-fc4a3e282256",
   "metadata": {
    "tags": []
   },
   "outputs": [],
   "source": [
    "inp = \"a = 1; if (a == 1) return 2;\"\n",
    "optimizer = plg.GDOptimizer(num_itrs, step_size, eps, param_low,\n",
    "            param_high, sign_grad, seed);\n",
    "\n",
    "var_counter, prg = plg.gcompile(inp)"
   ]
  },
  {
   "cell_type": "code",
   "execution_count": 4,
   "id": "d511288a-a316-4034-a412-ce4335db89f4",
   "metadata": {
    "tags": []
   },
   "outputs": [
    {
     "name": "stdout",
     "output_type": "stream",
     "text": [
      "0 push 0\n",
      "1 load\n",
      "2 push 1065353216\n",
      "3 swap\n",
      "4 store\n",
      "5 push 0\n",
      "6 load\n",
      "7 push 1065353216\n",
      "8 unknown\n",
      "9 push 6\n",
      "10 swap\n",
      "11 jmpIf\n",
      "12 nop\n",
      "13 push 2\n",
      "14 jmp\n",
      "15 ret\n",
      "16 ret\n"
     ]
    }
   ],
   "source": [
    "for i, instr in enumerate(prg):\n",
    "    print(i, instr.toString())"
   ]
  },
  {
   "cell_type": "code",
   "execution_count": 12,
   "id": "116c1532-1044-4adc-8263-458aa46266a9",
   "metadata": {},
   "outputs": [
    {
     "data": {
      "text/plain": [
       "{'(!(var_0 == 1)) &&  1': (False, {0: 1.0})}"
      ]
     },
     "execution_count": 12,
     "metadata": {},
     "output_type": "execute_result"
    }
   ],
   "source": [
    "target_pc = {12}\n",
    "\n",
    "constraints = plg.gexecute(prg, optimizer, target_pc, max_depth, max_num_trials,\n",
    "         ignore_memory, use_dpll, verbose_level)\n",
    "constraints"
   ]
  },
  {
   "cell_type": "code",
   "execution_count": 9,
   "id": "4321f7ad-88fa-4a9a-a01d-97f6c51f618d",
   "metadata": {
    "tags": []
   },
   "outputs": [
    {
     "data": {
      "text/plain": [
       "{'(!(var_0 == 1)) &&  1': (False, {0: 1.0}),\n",
       " '(var_0 == 1) &&  1': (True, {0: 1.0})}"
      ]
     },
     "execution_count": 9,
     "metadata": {},
     "output_type": "execute_result"
    }
   ],
   "source": [
    "target_pc = {-1}\n",
    "\n",
    "constraints = plg.gexecute(prg, optimizer, target_pc, max_depth, max_num_trials,\n",
    "         ignore_memory, use_dpll, verbose_level)\n",
    "constraints"
   ]
  },
  {
   "cell_type": "code",
   "execution_count": null,
   "id": "f2e10ec5-fd41-4748-b8b7-e20ef536fe8a",
   "metadata": {},
   "outputs": [],
   "source": []
  }
 ],
 "metadata": {
  "kernelspec": {
   "display_name": "Python 3 (ipykernel)",
   "language": "python",
   "name": "python3"
  },
  "language_info": {
   "codemirror_mode": {
    "name": "ipython",
    "version": 3
   },
   "file_extension": ".py",
   "mimetype": "text/x-python",
   "name": "python",
   "nbconvert_exporter": "python",
   "pygments_lexer": "ipython3",
   "version": "3.10.6"
  }
 },
 "nbformat": 4,
 "nbformat_minor": 5
}
