{
 "cells": [
  {
   "cell_type": "code",
   "execution_count": 1,
   "id": "67747f77-977a-4b54-8494-70a8adcc957e",
   "metadata": {
    "tags": []
   },
   "outputs": [],
   "source": [
    "import pylibgymbo as plg"
   ]
  },
  {
   "cell_type": "code",
   "execution_count": 2,
   "id": "6a518490-2ef9-481d-a3dc-0dce6cb943a4",
   "metadata": {
    "tags": []
   },
   "outputs": [],
   "source": [
    "max_depth = 65536\n",
    "verbose_level = 1\n",
    "num_itrs = 100\n",
    "step_size = 1.0\n",
    "eps = 1.0\n",
    "max_num_trials = 10\n",
    "param_low = -10\n",
    "param_high = 10\n",
    "seed = 42\n",
    "sign_grad = False\n",
    "init_param_uniform_int = False\n",
    "ignore_memory = False\n",
    "use_dpll = False"
   ]
  },
  {
   "cell_type": "code",
   "execution_count": 3,
   "id": "bdb13337-0c6d-4bde-a9d8-fc4a3e282256",
   "metadata": {
    "tags": []
   },
   "outputs": [],
   "source": [
    "inp = \"a = 1; if (a == 1) return 2;\"\n",
    "optimizer = plg.GDOptimizer(num_itrs, step_size, eps, param_low,\n",
    "            param_high, sign_grad, seed);\n",
    "\n",
    "var_counter, prg = plg.gcompile(inp)\n",
    "\n",
    "constraints = plg.gexecute(prg, optimizer, max_depth, max_num_trials,\n",
    "         ignore_memory, use_dpll, verbose_level)"
   ]
  },
  {
   "cell_type": "code",
   "execution_count": 4,
   "id": "4321f7ad-88fa-4a9a-a01d-97f6c51f618d",
   "metadata": {
    "tags": []
   },
   "outputs": [
    {
     "data": {
      "text/plain": [
       "{'(!(var_0 == 1)) &&  1': (False, {0: 1.0}),\n",
       " '(var_0 == 1) &&  1': (True, {0: 1.0})}"
      ]
     },
     "execution_count": 4,
     "metadata": {},
     "output_type": "execute_result"
    }
   ],
   "source": [
    "constraints"
   ]
  },
  {
   "cell_type": "code",
   "execution_count": 5,
   "id": "d511288a-a316-4034-a412-ce4335db89f4",
   "metadata": {
    "tags": []
   },
   "outputs": [
    {
     "name": "stdout",
     "output_type": "stream",
     "text": [
      "push 0\n",
      "load\n",
      "push 1065353216\n",
      "swap\n",
      "store\n",
      "push 0\n",
      "load\n",
      "push 1065353216\n",
      "unknown\n",
      "push 6\n",
      "swap\n",
      "jmpIf\n",
      "nop\n",
      "push 2\n",
      "jmp\n",
      "ret\n",
      "ret\n"
     ]
    }
   ],
   "source": [
    "for instr in prg:\n",
    "    print(instr.toString())"
   ]
  },
  {
   "cell_type": "code",
   "execution_count": null,
   "id": "116c1532-1044-4adc-8263-458aa46266a9",
   "metadata": {},
   "outputs": [],
   "source": []
  }
 ],
 "metadata": {
  "kernelspec": {
   "display_name": "Python 3 (ipykernel)",
   "language": "python",
   "name": "python3"
  },
  "language_info": {
   "codemirror_mode": {
    "name": "ipython",
    "version": 3
   },
   "file_extension": ".py",
   "mimetype": "text/x-python",
   "name": "python",
   "nbconvert_exporter": "python",
   "pygments_lexer": "ipython3",
   "version": "3.10.6"
  }
 },
 "nbformat": 4,
 "nbformat_minor": 5
}
